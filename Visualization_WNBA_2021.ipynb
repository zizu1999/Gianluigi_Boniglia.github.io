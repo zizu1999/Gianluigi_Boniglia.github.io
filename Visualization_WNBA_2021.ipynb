{
 "cells": [
  {
   "cell_type": "markdown",
   "metadata": {},
   "source": [
    "GIANLUIGI BONIGLIA"
   ]
  },
  {
   "cell_type": "code",
   "execution_count": null,
   "metadata": {},
   "outputs": [],
   "source": [
    "pip install altair "
   ]
  },
  {
   "cell_type": "code",
   "execution_count": null,
   "metadata": {
    "colab": {
     "base_uri": "https://localhost:8080/"
    },
    "id": "6tWNrxYcVdJ7",
    "outputId": "1735a64b-522b-4bca-f375-96a417e6b61f"
   },
   "outputs": [],
   "source": [
    "import altair as alt\n",
    "print(alt.__version__)"
   ]
  },
  {
   "cell_type": "code",
   "execution_count": null,
   "metadata": {
    "colab": {
     "base_uri": "https://localhost:8080/"
    },
    "id": "NVcpaXki0_qM",
    "outputId": "c8f21267-cfe2-465c-eff3-1fda989dcba0"
   },
   "outputs": [],
   "source": [
    "import altair as alt\n",
    "import pandas as pd\n",
    "import numpy as np\n",
    "\n",
    "# Load the dataset\n",
    "data = pd.read_csv('/Users/gianluigiboniglia/Downloads/wnba-shots-2021.csv')\n",
    "alt.data_transformers.disable_max_rows()  # to handle datasets larger than the default limit.\n",
    "df = pd.DataFrame(data)\n",
    "\n",
    "#Remove rows and columns with missing values\n",
    "df.dropna(how='any', axis=0, inplace=True)  # Drops rows with ANY missing values\n",
    "df.dropna(how='all', axis=1, inplace=True)  # Drops columns with ALL missing values\n",
    "\n",
    "# Create an interactive dropdown to select a team1\n",
    "team_dropdown1 = alt.binding_select(options=data['shooting_team'].unique().tolist(), name='Team 1')\n",
    "selection1 = alt.selection_point(fields=['shooting_team'], bind=team_dropdown1)\n",
    "\n",
    "# Create an interactive dropdown to select a team2\n",
    "team_dropdown2 = alt.binding_select(options=data['shooting_team'].unique().tolist(), name='Team 2')\n",
    "selection2 = alt.selection_point(fields=['shooting_team'], bind=team_dropdown2)\n",
    "\n",
    "# I transform the time (game_seconds_remaining) from remaining seconds to passing minutes. \n",
    "df['Minute'] = round((2400 - df['game_seconds_remaining']) / 60)\n",
    "\n",
    "# Determine home or away location for each shot\n",
    "df['Location'] = np.where(df['shooting_team'] == df['home_team_name'], 'Home', 'Away') \n",
    "# Create a unique game identifier\n",
    "df['Game'] = df['home_team_name'] + ' vs. ' + df['away_team_name']  \n",
    "\n",
    "# Create an interactive dropdown for location selection (home/away)\n",
    "location_dropdown = alt.binding_select(options=['Home', 'Away'], name='Location')  \n",
    "location_selection = alt.selection_point(fields=['Location'], bind=location_dropdown)\n",
    "\n",
    "\n",
    "# Interactive dropdown for game selection\n",
    "game_dropdown = alt.binding_select(options=df['Game'].unique().tolist(), name='Game')\n",
    "game_selection = alt.selection_point(fields=['Game'], bind=game_dropdown)\n"
   ]
  },
  {
   "cell_type": "markdown",
   "metadata": {
    "id": "4PDdjCCV8kyE"
   },
   "source": [
    "## **How is the distribution of shot attempts of a team?**"
   ]
  },
  {
   "cell_type": "markdown",
   "metadata": {
    "id": "nN2m-cpx83Wd"
   },
   "source": [
    "To answer this question, I decided to create two graphs. The first one where the spatial distribution of expected shots is represented by a histogram. On the x-axis, there is the x-coordinate defined as 'Horizontal location in feet of shot attempt where the hoop would be located at 25 feet', and on the y-axis, there is the count of shots. I created this first graph to show in which area, relative to the x-axis, players take more shots, it shows how most of the shots are taken from the central part of the field (based on the x-axis). The second graph is a scatter plot where the x-axis contains the previously defined x-coordinate and the y-axis contains the y-coordinate defined as 'Vertical location in feet of shot attempt with respect to the target hoop'. I created this graph to show in which areas of the court players shoot more frequently, this graph shows how most of the shots taken are either under the rim or near the three-point line."
   ]
  },
  {
   "cell_type": "code",
   "execution_count": null,
   "metadata": {
    "colab": {
     "base_uri": "https://localhost:8080/",
     "height": 51
    },
    "id": "MGpgr-fR9kPQ",
    "outputId": "422000e6-63be-46d3-cad2-02d7a72b1c67"
   },
   "outputs": [],
   "source": [
    "# Count shot attempts for each team, counting how many times each team appears in the 'shooting_team' column\n",
    "counting = df['shooting_team'].value_counts()\n",
    "\n",
    "# Create a DataFrame for shot attempt counts\n",
    "counting_df = pd.DataFrame({'shooting_team': counting.index,\n",
    "                            'counting': counting.values, })\n",
    "\n",
    "#Filter out rows with invalid coordinates\n",
    "filtered_df = df[(df['coordinate_x'] != -214748340) & (df['coordinate_y'] != -214748340)]\n",
    "\n",
    "# Create a histogram of shot attempt distribution\n",
    "chart_1 = (alt.Chart(filtered_df).mark_bar().encode(\n",
    "        x=alt.X('coordinate_x:Q', bin=alt.Bin(maxbins=30), title='Coordinate X (Orizzontale)'),\n",
    "        y=alt.Y('count()', title='Numero di Tentativi'),\n",
    "        tooltip=['coordinate_x', 'count()','shooting_team']\n",
    "    )\n",
    "    .add_params(\n",
    "        selection1\n",
    "    ).transform_filter(\n",
    "        selection1  \n",
    "    ).properties(\n",
    "        title=\"Distribuzione dei Tentativi di Tiro per Squadra-LA\",\n",
    "        width=300,\n",
    "        height=400\n",
    "    )\n",
    ")\n",
    "\n",
    "# Display the chart\n",
    "chart_1 "
   ]
  },
  {
   "cell_type": "code",
   "execution_count": null,
   "metadata": {
    "colab": {
     "base_uri": "https://localhost:8080/",
     "height": 1000
    },
    "id": "wxxHw4mBJ5sg",
    "outputId": "3699da0e-9d51-4b46-e086-09c84cdd6acf"
   },
   "outputs": [],
   "source": [
    "chart_2 = alt.Chart(data).mark_point().encode(\n",
    "        alt.X('coordinate_x:Q', scale=alt.Scale(domain=[0,50])) , #Quantitative scale for the x-axis, set domain for better visualization.\n",
    "        alt.Y('coordinate_y:Q', scale=alt.Scale(domain=[-5,89])) , #Quantitative scale for the y-axis, set domain for better visualization.\n",
    "        tooltip=['shot_type', 'shooting_team', 'game_id'] #Adds tooltip to display shot information\n",
    ").add_params( #Adds interactivity\n",
    "   selection1\n",
    ").transform_filter( #Filters the data based on the team selected in the dropdown\n",
    "   selection1\n",
    ").transform_filter( #Filters out rows with invalid coordinates\n",
    "    (alt.datum.coordinate_x != -214748340) & (alt.datum.coordinate_y != -214748340)\n",
    ").properties(\n",
    "    title=\"Spatial Distribution of Shots-LA\",\n",
    "    width=300,\n",
    "    height=400\n",
    ")\n",
    "\n",
    "chart_2"
   ]
  },
  {
   "cell_type": "markdown",
   "metadata": {
    "id": "QCdnUpahBPOS"
   },
   "source": []
  },
  {
   "cell_type": "markdown",
   "metadata": {
    "id": "4Bn-dADdBSW2"
   },
   "source": [
    "# How do two different teams compare in terms of successful or failed shots?"
   ]
  },
  {
   "cell_type": "markdown",
   "metadata": {
    "id": "-01G-x8RBh8L"
   },
   "source": [
    "To answer this question, I decided to create a stacked bar chart to clearly show how two different teams compare in terms of successful and missed shots. On the x-axis, we have the two teams that the user can choose for comparison, and on the y-axis, the count of successful shots + missed shots, highlighted in two different colors.This graph clearly shows the difference in expected shots between two teams, which in certain cases can be substantial, but how the ratio of made shots to missed shots does not undergo significant variations.\n"
   ]
  },
  {
   "cell_type": "code",
   "execution_count": null,
   "metadata": {
    "colab": {
     "base_uri": "https://localhost:8080/",
     "height": 721
    },
    "id": "7HcEwfkULBf1",
    "outputId": "ef52882a-8e2f-4096-f72a-0760673e94eb"
   },
   "outputs": [],
   "source": [
    "# Count successful and missed shots for each team, Groups the data by team and whether the shot was successful or not\n",
    "counting = df.groupby([\"shooting_team\", \"made_shot\"]).size().reset_index(name=\"counting\")\n",
    "\n",
    "pivoted = counting.pivot(index='shooting_team', columns='made_shot', values='counting').fillna(0)\n",
    "\n",
    "# Renaming columns for clarity\n",
    "pivoted.columns = ['missed_shots', 'made_shots']\n",
    "\n",
    "# Calculate the shot ratio\n",
    "pivoted['shot_ratio'] = pivoted['made_shots'] / pivoted['missed_shots'].replace(0, pd.NA)\n",
    "\n",
    "# Reset index to turn the DataFrame back into a regular format\n",
    "final_df = pivoted.reset_index()\n",
    "\n",
    "print(final_df)\n",
    "\n",
    "\n",
    "# Create a stacked bar chart to compare shot success rates between two selected teams\n",
    "chart_3 = alt.Chart(counting).mark_bar().encode(\n",
    "    x=alt.X('shooting_team:N', title='Team'),\n",
    "    y=alt.Y('counting:Q', title='Shots Attempts'),\n",
    "    color=alt.Color('made_shot:N',scale=alt.Scale(domain=[True, False], range=['orange', 'blue']),legend=alt.Legend(title=\"Shot Type\",orient='bottom')), #Color-codes the bars based on whether the shot was successful or not\n",
    "    tooltip=[\n",
    "        alt.Tooltip('shooting_team:N', title='Team'),\n",
    "        alt.Tooltip('made_shot:N', title='Successful Shot'),\n",
    "        alt.Tooltip('counting:Q', title='Number of Shots')\n",
    "    ]\n",
    ").add_params( #Adds interactivity for the selection of the first team\n",
    "    selection1\n",
    ").add_params( # Adds interactivity for the selection of the second team\n",
    "    selection2\n",
    ").transform_filter( #Filters the data to show only the selected teams\n",
    "    selection2 | selection1\n",
    ").properties(\n",
    "    title=\"Comparison Teams: Successful or Failed Shots\",\n",
    "    width=300,\n",
    "    height=300\n",
    ")\n",
    "\n",
    "chart_3"
   ]
  },
  {
   "cell_type": "markdown",
   "metadata": {
    "id": "z0u4e0a1MW-2"
   },
   "source": [
    "# Is the distribution of shot attempts of a team different when playing home than when playing away?"
   ]
  },
  {
   "cell_type": "markdown",
   "metadata": {
    "id": "oNrhDbzkMfxO"
   },
   "source": [
    "To answer this question, I decided to create two graphs. The first is a grouped bar chart showing the count of home and away shot attempts for each team. This graph shows how there are teams that are much more confident at home and have a higher shot count (Chicago, Las Vegas). But, counterintuitively, it also shows that there are teams that take more shots in hostile environments (Washington, Phoenix). The second is a scatter plot with coordinate_x on the x-axis and coordinate_y on the y-axis. In the second graph, it is shown that the teams that are more confident at home take more three-point shots when playing on their own court.In this scatter plot the user can choose to watch the distribution of home or away shots attempts."
   ]
  },
  {
   "cell_type": "code",
   "execution_count": null,
   "metadata": {
    "colab": {
     "base_uri": "https://localhost:8080/",
     "height": 847
    },
    "id": "L52f5ad3K3gT",
    "outputId": "09525c8f-30b0-4846-c7bb-5b62806c4760"
   },
   "outputs": [],
   "source": [
    "# Determine the location (home or away) for each shot attempt\n",
    "df['location'] = 'unknown'  # Initialize location column\n",
    "for index, row in df.iterrows(): #Iterates through each row to determine if the shot was taken at home or away\n",
    "    if row['shooting_team'] == row['home_team_name']:\n",
    "        df.loc[index, 'location'] = 'home'\n",
    "    elif row['shooting_team'] == row['away_team_name']:\n",
    "        df.loc[index, 'location'] = 'away'\n",
    "\n",
    "# Remove rows where location couldn't be determined\n",
    "df = df[df['location'] != 'unknown']\n",
    "\n",
    "# Create a bar chart showing the distribution of shot attempts (home vs. away)\n",
    "chart_4 = alt.Chart(df).mark_bar().encode(\n",
    "    x=alt.X('location:N', title='Location'),\n",
    "    y=alt.Y('count()', title='Number of Shot Attempts'),\n",
    "    color=alt.Color('location:N', title='Location'),\n",
    "    tooltip=['shooting_team']\n",
    ").properties(\n",
    "    title='Shot Attempt Distribution: Home vs. Away',\n",
    "     width=300,\n",
    "    height=400\n",
    ").add_params( #Adds interactivity\n",
    "    selection1\n",
    ").transform_filter( #Filters data based on selected team\n",
    "    selection1\n",
    ").interactive() #Makes the chart interactive\n",
    "\n",
    "chart_4"
   ]
  },
  {
   "cell_type": "code",
   "execution_count": null,
   "metadata": {
    "colab": {
     "base_uri": "https://localhost:8080/",
     "height": 1000
    },
    "id": "vuYoGyjOeDCd",
    "outputId": "2feb6f2a-74de-4882-a164-656dcacb002a"
   },
   "outputs": [],
   "source": [
    "# Determine home/away location for each shot\n",
    "df['location'] = 'unknown'  # Initialize location column\n",
    "for index, row in df.iterrows(): #Iterates through each row to determine if the shot was taken at home or away\n",
    "    if row['shooting_team'] == row['home_team_name']:\n",
    "        df.loc[index, 'location'] = 'home'\n",
    "    elif row['shooting_team'] == row['away_team_name']:\n",
    "        df.loc[index, 'location'] = 'away'\n",
    "\n",
    "# Remove rows where location is still unknown\n",
    "df = df[df['location'] != 'unknown']\n",
    "\n",
    "# Create a scatter plot of shot locations, interactive with team and location selections\n",
    "chart_5 = alt.Chart(df).mark_circle().encode(\n",
    "    x=alt.X('coordinate_x:Q', title='Coordinate X',scale=alt.Scale(domain=[0,50]) ),\n",
    "    y=alt.Y('coordinate_y:Q', title='Coordinate Y', scale=alt.Scale(domain=[-5,89])),\n",
    "    color=alt.Color('location:N', title='Location'),\n",
    "    tooltip=['game_id', 'shooting_team', 'location', 'coordinate_x', 'coordinate_y']\n",
    ").properties(\n",
    "    title='Shot Locations: Home vs. Away',\n",
    "    width=300,\n",
    "    height=400\n",
    ").add_params( #Adds interactivity for team selection\n",
    "    selection1\n",
    ").add_params( #Adds interactivity for location selection\n",
    "    location_selection\n",
    ").transform_filter( #Filters the data based on selected team\n",
    "    selection1\n",
    ").transform_filter( #Filters the data based on selected location\n",
    "    location_selection\n",
    ").transform_filter( #Filters out rows with invalid coordinates\n",
    "    (alt.datum.coordinate_x != -214748340) & (alt.datum.coordinate_y != -214748340)\n",
    ").interactive() #Makes the chart interactive\n",
    "\n",
    "chart_5\n"
   ]
  },
  {
   "cell_type": "markdown",
   "metadata": {
    "id": "27-pjaYpAJJ8"
   },
   "source": [
    "# How the shots statistics (successful vs failed) compare per quarter?"
   ]
  },
  {
   "cell_type": "markdown",
   "metadata": {
    "id": "yAsAKX6VANtL"
   },
   "source": [
    "To this question, I decided to create a grouped bar chart that distinguishes between two cases: made shots and missed shots. On the x-axis, there is the quarter number, and on the y-axis, the count of shots. As seen in the chart, on the left (in blue) is the count of missed shots, while on the right (in orange) is the count of made shots. This graph shows how there are teams that \"under pressure\" as time is running out have a higher shot count scored in the last quarter (Indiana, New York).\n",
    "\n"
   ]
  },
  {
   "cell_type": "code",
   "execution_count": null,
   "metadata": {
    "colab": {
     "background_save": true,
     "base_uri": "https://localhost:8080/",
     "height": 675
    },
    "id": "7WYHaqSHN0Zi",
    "outputId": "44b0b8b0-8ae8-42c8-9ee9-385a753ae35c"
   },
   "outputs": [],
   "source": [
    "# Add a column to count individual shot attempts (needed for aggregation)\n",
    "df['shot_count'] = 1\n",
    "\n",
    "\n",
    "# Create a bar chart showing shot attempts per quarter, split by shot success/failure\n",
    "chart_6 = alt.Chart(df).mark_bar().encode(\n",
    "    x=alt.X('qtr:O', title='Quarter'),\n",
    "    y=alt.Y('sum(shot_count):Q', title='Number of Shots'), #Aggregates the shot attempts per quarter\n",
    "    color=alt.Color('made_shot:N', title='Shot Attempt'),\n",
    "    tooltip=['sum(shot_count)', 'shooting_team']\n",
    ").properties(\n",
    "    title='Shot Result per quarter-LA',\n",
    "    width=300,\n",
    "    height=300\n",
    ").add_params( #Adds interactivity\n",
    "    selection1\n",
    ").transform_filter( #Filters the data based on selected team\n",
    "    selection1\n",
    ").interactive() #Makes the chart interactive\n",
    "\n",
    "chart_6"
   ]
  },
  {
   "cell_type": "markdown",
   "metadata": {
    "id": "MGmJCb4-uLwj"
   },
   "source": [
    "# How do the scores of two teams compare for a certain game?"
   ]
  },
  {
   "cell_type": "markdown",
   "metadata": {
    "id": "8yQE-VI31V5b"
   },
   "source": [
    "They employ different strategies to achieve this, each with minor shortcomings, I haven't yet been able to resolve completely.  I'm presenting both because neither perfectly addresses all potential issues in the data. Neither method is entirely foolproof due to potential inconsistencies in the data (multiple score updates within a single minute).  I've presented both because they represent different interpretations of how to handle those inconsistencies, and which approach is better might depend on the specifics of the data.  Ideally, a more robust solution would involve pre-processing the data to ensure each minute has only one, correctly updated score."
   ]
  },
  {
   "cell_type": "markdown",
   "metadata": {
    "id": "xQW8CcAnyUN6"
   },
   "source": [
    "This approach focuses on getting the first score recorded for each minute. The underlying assumption is that the first score entry for a given minute is representative of the score at that time. The first() aggregation in the groupby() operation reflects this. The is strenghts Simple and relatively efficient. It avoids complex cumulative sum calculations. The weaknesses is if there are multiple score updates within a minute (e.g., due to quick successive scores), this approach might not accurately reflect the actual score at the end of that minute. It only captures the very first score of that minute.\n",
    "\n",
    "\n"
   ]
  },
  {
   "cell_type": "code",
   "execution_count": null,
   "metadata": {
    "colab": {
     "base_uri": "https://localhost:8080/",
     "height": 51
    },
    "id": "0gU6j0_bK6zP",
    "outputId": "45952cd6-96a6-49f4-c826-d16c5101e0cc"
   },
   "outputs": [],
   "source": [
    "# Create columns indicating team and score for each shot\n",
    "df['team_name'] = np.where(df['Location'] == 'Home', df['home_team_name'], df['away_team_name']) #Creates a column that specifies the team that took the shot\n",
    "df['team_score'] = np.where(df['Location'] == 'Home', df['home_score'], df['away_score']) #Creates a column that specifies the score of the team that took the shot\n",
    "\n",
    "# Sort the DataFrame for correct cumulative sum calculation\n",
    "df = df.sort_values(['Game', 'team_name', 'Minute', 'team_score']) #Sorts the dataframe to compute the cumulative sum correctly.\n",
    "\n",
    "\n",
    "# Group data to get the first score for each minute for each team in each game\n",
    "df_grouped = df.groupby(['Game', 'team_name', 'Minute'], as_index=False)['team_score'].first() #Groups the data and gets the first score for each minute for each team in each game\n",
    "\n",
    "\n",
    "# Create the line chart showing score evolution\n",
    "chart_7 = alt.Chart(df_grouped).mark_line(point=True).encode(\n",
    "    x=alt.X('Minute', title='Minute', scale=alt.Scale(domain=[0,50])),\n",
    "    y=alt.Y('team_score:Q', title='Score', axis=alt.Axis(labelFontSize=14)),\n",
    "    color=alt.Color('team_name:N', scale=alt.Scale(range=['black', 'red'])),\n",
    "    tooltip=['team_name:N', 'Minute:Q', 'team_score:Q']\n",
    ").properties(\n",
    "    title='Evolution of Score per Team',\n",
    "    width=400,\n",
    "    height=400\n",
    ").add_params(\n",
    "    game_selection\n",
    ").transform_filter(\n",
    "    game_selection\n",
    ").interactive()\n",
    "\n",
    "chart_7"
   ]
  },
  {
   "cell_type": "markdown",
   "metadata": {
    "id": "fW1RPbnW2pxc"
   },
   "source": [
    "This approach attempts to get the maximum score recorded in each minute. The assumption here is that if there are multiple entries within a minute, the largest value is likely the most up-to-date score. The strengths is It might be slightly more accurate than just taking the first score if score increments are frequently recorded. The weaknesses is The max() aggregation isn't a perfectly reliable way to get an accurate score. It will not correctly show a decrease in score if a score was, for example, reversed. It still might not accurately represent the cumulative score at the end of each minute if scores are frequently being updated."
   ]
  },
  {
   "cell_type": "code",
   "execution_count": null,
   "metadata": {
    "colab": {
     "base_uri": "https://localhost:8080/",
     "height": 597
    },
    "id": "lxEwGsdg0dlL",
    "outputId": "95dc7f47-fe7b-4070-9a42-a951ba796ba8"
   },
   "outputs": [],
   "source": [
    "# Sort the DataFrame for correct cumulative sum calculation\n",
    "df = df.sort_values(['Game', 'Minute', 'home_score', 'away_score']) #Sorts the dataframe to compute the cumulative sum correctly.\n",
    "\n",
    "\n",
    "# Group data to get the maximum score for each minute for each team in each game.  This assumes that multiple entries within the same minute represent score increments.\n",
    "df_agg = df.groupby(['Game', 'home_team_name', 'away_team_name', 'Minute'])[['home_score', 'away_score']].max().reset_index()\n",
    "\n",
    "# Prepare data for Altair plotting: create a dataframe with team, score, minute, and game information\n",
    "team_data = []\n",
    "for _, row in df_agg.iterrows():\n",
    "    team_data.append({'Game':row['Game'], 'team':row['home_team_name'], 'Minute':row['Minute'], 'score':row['home_score']})\n",
    "    team_data.append({'Game':row['Game'], 'team':row['away_team_name'], 'Minute':row['Minute'], 'score':row['away_score']})\n",
    "\n",
    "df_team = pd.DataFrame(team_data)\n",
    "\n",
    "\n",
    "base = alt.Chart(df_team).encode(\n",
    "    x='Minute:O',\n",
    "    y=alt.Y('score:Q', title='Score'),\n",
    "    color=alt.Color('team:N', title='Team'),\n",
    "    tooltip=['Game', 'team', 'Minute', 'score']\n",
    ")\n",
    "\n",
    "line = base.mark_line(point=True) #Specifies the chart type\n",
    "\n",
    "chart_8 = line.properties(\n",
    "    title='Score Evolution by Team',\n",
    "    width=400,\n",
    "    height=400\n",
    ").add_params(\n",
    "    game_selection\n",
    ").transform_filter(\n",
    "    game_selection\n",
    ").interactive() #Makes the chart interactive\n",
    "\n",
    "chart_8"
   ]
  },
  {
   "cell_type": "markdown",
   "metadata": {},
   "source": [
    "I had to create two separate dashboards because there was a problem with interfering dropdowns that I couldn't resolve. This approach allows all the charts to be displayed correctly."
   ]
  },
  {
   "cell_type": "code",
   "execution_count": null,
   "metadata": {
    "colab": {
     "background_save": true,
     "base_uri": "https://localhost:8080/"
    },
    "id": "Qwly3eD06qPf",
    "outputId": "6480bad2-8812-47de-9dda-c255dc32c060"
   },
   "outputs": [],
   "source": [
    "row1 = alt.hconcat(chart_1, chart_2)  \n",
    "\n",
    "row3 = alt.hconcat(chart_3, chart_6, spacing=20)  \n",
    "\n",
    "\n",
    "dashboard = alt.vconcat(row1,row3,)  \n",
    "\n",
    "\n",
    "dashboard"
   ]
  },
  {
   "cell_type": "code",
   "execution_count": null,
   "metadata": {},
   "outputs": [],
   "source": [
    "row2 = alt.hconcat(chart_4, chart_5) \n",
    "row4 = alt.hconcat(chart_7, chart_8)\n",
    "\n",
    "dashboard = alt.vconcat(row2, row4)  \n",
    "\n",
    "dashboard"
   ]
  },
  {
   "cell_type": "code",
   "execution_count": null,
   "metadata": {},
   "outputs": [],
   "source": []
  }
 ],
 "metadata": {
  "colab": {
   "provenance": []
  },
  "kernelspec": {
   "display_name": "Python 3 (ipykernel)",
   "language": "python",
   "name": "python3"
  },
  "language_info": {
   "codemirror_mode": {
    "name": "ipython",
    "version": 3
   },
   "file_extension": ".py",
   "mimetype": "text/x-python",
   "name": "python",
   "nbconvert_exporter": "python",
   "pygments_lexer": "ipython3",
   "version": "3.9.7"
  }
 },
 "nbformat": 4,
 "nbformat_minor": 1
}
